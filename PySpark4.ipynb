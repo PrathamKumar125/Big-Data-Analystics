{
  "nbformat": 4,
  "nbformat_minor": 0,
  "metadata": {
    "colab": {
      "provenance": [],
      "gpuType": "T4"
    },
    "kernelspec": {
      "name": "python3",
      "display_name": "Python 3"
    },
    "language_info": {
      "name": "python"
    },
    "accelerator": "GPU"
  },
  "cells": [
    {
      "cell_type": "code",
      "execution_count": 2,
      "metadata": {
        "colab": {
          "base_uri": "https://localhost:8080/"
        },
        "id": "Fh_cVn1dmwoX",
        "outputId": "eef87abd-c773-463d-9ba9-8dd29917adb0"
      },
      "outputs": [
        {
          "output_type": "stream",
          "name": "stdout",
          "text": [
            "Collecting pyspark\n",
            "  Downloading pyspark-3.5.0.tar.gz (316.9 MB)\n",
            "\u001b[2K     \u001b[90m━━━━━━━━━━━━━━━━━━━━━━━━━━━━━━━━━━━━━━━━\u001b[0m \u001b[32m316.9/316.9 MB\u001b[0m \u001b[31m2.3 MB/s\u001b[0m eta \u001b[36m0:00:00\u001b[0m\n",
            "\u001b[?25h  Preparing metadata (setup.py) ... \u001b[?25l\u001b[?25hdone\n",
            "Requirement already satisfied: py4j==0.10.9.7 in /usr/local/lib/python3.10/dist-packages (from pyspark) (0.10.9.7)\n",
            "Building wheels for collected packages: pyspark\n",
            "  Building wheel for pyspark (setup.py) ... \u001b[?25l\u001b[?25hdone\n",
            "  Created wheel for pyspark: filename=pyspark-3.5.0-py2.py3-none-any.whl size=317425345 sha256=22a9242c7de9f541850d7c7d02f3c01fa3c5187fb477bba5f3bd3ed297f13973\n",
            "  Stored in directory: /root/.cache/pip/wheels/41/4e/10/c2cf2467f71c678cfc8a6b9ac9241e5e44a01940da8fbb17fc\n",
            "Successfully built pyspark\n",
            "Installing collected packages: pyspark\n",
            "Successfully installed pyspark-3.5.0\n"
          ]
        }
      ],
      "source": [
        "!pip install pyspark"
      ]
    },
    {
      "cell_type": "code",
      "source": [
        "from pyspark.sql import SparkSession\n",
        "from pyspark.ml.evaluation import RegressionEvaluator\n",
        "from pyspark.ml.recommendation import ALS\n",
        "#Setup Spark Session\n",
        "spark = SparkSession.builder.appName('Recommender').getOrCreate()\n",
        "spark"
      ],
      "metadata": {
        "colab": {
          "base_uri": "https://localhost:8080/",
          "height": 219
        },
        "id": "udUTbHIGnGYs",
        "outputId": "495613ac-9081-4ed7-98f7-0b73c0558d05"
      },
      "execution_count": 3,
      "outputs": [
        {
          "output_type": "execute_result",
          "data": {
            "text/plain": [
              "<pyspark.sql.session.SparkSession at 0x7b987d14cd00>"
            ],
            "text/html": [
              "\n",
              "            <div>\n",
              "                <p><b>SparkSession - in-memory</b></p>\n",
              "                \n",
              "        <div>\n",
              "            <p><b>SparkContext</b></p>\n",
              "\n",
              "            <p><a href=\"http://bc2452aa52a3:4040\">Spark UI</a></p>\n",
              "\n",
              "            <dl>\n",
              "              <dt>Version</dt>\n",
              "                <dd><code>v3.5.0</code></dd>\n",
              "              <dt>Master</dt>\n",
              "                <dd><code>local[*]</code></dd>\n",
              "              <dt>AppName</dt>\n",
              "                <dd><code>Recommender</code></dd>\n",
              "            </dl>\n",
              "        </div>\n",
              "        \n",
              "            </div>\n",
              "        "
            ]
          },
          "metadata": {},
          "execution_count": 3
        }
      ]
    },
    {
      "cell_type": "code",
      "source": [
        "data = spark.read.csv('/content/drive/MyDrive/datasets/book_ratings.csv',\n",
        "\n",
        "inferSchema=True,header=True)"
      ],
      "metadata": {
        "id": "lXh2kt8RoG-_"
      },
      "execution_count": 4,
      "outputs": []
    },
    {
      "cell_type": "code",
      "source": [
        "data.show(5)"
      ],
      "metadata": {
        "colab": {
          "base_uri": "https://localhost:8080/"
        },
        "id": "6bGnEfNLpK9-",
        "outputId": "103da021-ff2e-49b3-f115-fb26617178c0"
      },
      "execution_count": 5,
      "outputs": [
        {
          "output_type": "stream",
          "name": "stdout",
          "text": [
            "+-------+-------+------+\n",
            "|book_id|user_id|rating|\n",
            "+-------+-------+------+\n",
            "|      1|    314|     5|\n",
            "|      1|    439|     3|\n",
            "|      1|    588|     5|\n",
            "|      1|   1169|     4|\n",
            "|      1|   1185|     4|\n",
            "+-------+-------+------+\n",
            "only showing top 5 rows\n",
            "\n"
          ]
        }
      ]
    },
    {
      "cell_type": "code",
      "source": [
        "data.count()"
      ],
      "metadata": {
        "colab": {
          "base_uri": "https://localhost:8080/"
        },
        "id": "ZoLSH5iXpNlS",
        "outputId": "9314ea54-86bf-428f-bcc5-3adfa1c9d998"
      },
      "execution_count": 6,
      "outputs": [
        {
          "output_type": "execute_result",
          "data": {
            "text/plain": [
              "981756"
            ]
          },
          "metadata": {},
          "execution_count": 6
        }
      ]
    },
    {
      "cell_type": "code",
      "source": [
        "data.describe().show()"
      ],
      "metadata": {
        "colab": {
          "base_uri": "https://localhost:8080/"
        },
        "id": "BqHZq4lVpQBS",
        "outputId": "4280c3db-48af-4273-c621-fdb92be42e98"
      },
      "execution_count": 7,
      "outputs": [
        {
          "output_type": "stream",
          "name": "stdout",
          "text": [
            "+-------+-----------------+------------------+------------------+\n",
            "|summary|          book_id|           user_id|            rating|\n",
            "+-------+-----------------+------------------+------------------+\n",
            "|  count|           981756|            981756|            981756|\n",
            "|   mean|4943.275635697668|25616.759933221696|3.8565335989797873|\n",
            "| stddev|2873.207414896114|15228.338825882167|0.9839408559620033|\n",
            "|    min|                1|                 1|                 1|\n",
            "|    max|            10000|             53424|                 5|\n",
            "+-------+-----------------+------------------+------------------+\n",
            "\n"
          ]
        }
      ]
    },
    {
      "cell_type": "code",
      "source": [
        "train_data, test_data = data.randomSplit([0.8, 0.2])"
      ],
      "metadata": {
        "id": "TRoWMw3wpRvJ"
      },
      "execution_count": 8,
      "outputs": []
    },
    {
      "cell_type": "code",
      "source": [
        "als = ALS(maxIter=5,\n",
        "          regParam=0.01,\n",
        "          userCol=\"user_id\",\n",
        "          itemCol=\"book_id\",\n",
        "          ratingCol=\"rating\")"
      ],
      "metadata": {
        "id": "FGB6k9_-pUcu"
      },
      "execution_count": 9,
      "outputs": []
    },
    {
      "cell_type": "code",
      "source": [
        "model = als.fit(train_data)"
      ],
      "metadata": {
        "id": "0oBbjjR5pZiH"
      },
      "execution_count": 10,
      "outputs": []
    },
    {
      "cell_type": "code",
      "source": [
        "predictions = model.transform(test_data)"
      ],
      "metadata": {
        "id": "qmNpsnlRpnnj"
      },
      "execution_count": 11,
      "outputs": []
    },
    {
      "cell_type": "code",
      "source": [
        "predictions.show()"
      ],
      "metadata": {
        "colab": {
          "base_uri": "https://localhost:8080/"
        },
        "id": "JZOIVQMXpz9T",
        "outputId": "25869ef0-cd3a-48a6-f0df-685fa50a2688"
      },
      "execution_count": 12,
      "outputs": [
        {
          "output_type": "stream",
          "name": "stdout",
          "text": [
            "+-------+-------+------+----------+\n",
            "|book_id|user_id|rating|prediction|\n",
            "+-------+-------+------+----------+\n",
            "|      1|  32592|     4|  4.295682|\n",
            "|      1|    588|     5| 4.2512364|\n",
            "|      1|  16913|     5| 3.7509816|\n",
            "|      1|  32305|     5| 4.4636183|\n",
            "|      1|  38475|     4|  4.085602|\n",
            "|      1|  11927|     4|   5.27649|\n",
            "|      1|  33065|     4|  4.986938|\n",
            "|      1|  42404|     5| 4.8027167|\n",
            "|      1|  21487|     4|   4.20221|\n",
            "|      1|  16377|     4| 5.1734757|\n",
            "|      1|  17663|     5| 4.4150023|\n",
            "|      1|    439|     3| 3.7341223|\n",
            "|      1|  37284|     5| 3.8447344|\n",
            "|      1|   1185|     4|  3.946853|\n",
            "|      1|  33872|     5| 4.4724183|\n",
            "|      1|  21228|     5|  4.156422|\n",
            "|      1|  44397|     5|  5.076925|\n",
            "|      1|  30681|     5|  3.155237|\n",
            "|      1|  23612|     4|  4.333251|\n",
            "|      1|  37834|     5| 4.7758417|\n",
            "+-------+-------+------+----------+\n",
            "only showing top 20 rows\n",
            "\n"
          ]
        }
      ]
    },
    {
      "cell_type": "code",
      "source": [
        "user1 = test_data.filter(test_data['user_id']==5461).select(['book_id','user_id'])"
      ],
      "metadata": {
        "id": "WuzLB_CHp26Q"
      },
      "execution_count": 13,
      "outputs": []
    },
    {
      "cell_type": "code",
      "source": [
        "user1.show()"
      ],
      "metadata": {
        "colab": {
          "base_uri": "https://localhost:8080/"
        },
        "id": "Ccev1ST7p5d4",
        "outputId": "2e4bf805-bff0-40fc-93f6-866d8f188e41"
      },
      "execution_count": 14,
      "outputs": [
        {
          "output_type": "stream",
          "name": "stdout",
          "text": [
            "+-------+-------+\n",
            "|book_id|user_id|\n",
            "+-------+-------+\n",
            "|      7|   5461|\n",
            "|      8|   5461|\n",
            "|     37|   5461|\n",
            "|     47|   5461|\n",
            "|     82|   5461|\n",
            "|     86|   5461|\n",
            "|    117|   5461|\n",
            "|    118|   5461|\n",
            "|    129|   5461|\n",
            "|    130|   5461|\n",
            "|    255|   5461|\n",
            "|    261|   5461|\n",
            "|    281|   5461|\n",
            "|    304|   5461|\n",
            "|    321|   5461|\n",
            "|    339|   5461|\n",
            "|    358|   5461|\n",
            "|    396|   5461|\n",
            "|    444|   5461|\n",
            "|    478|   5461|\n",
            "+-------+-------+\n",
            "only showing top 20 rows\n",
            "\n"
          ]
        }
      ]
    },
    {
      "cell_type": "code",
      "source": [
        "user1.count()"
      ],
      "metadata": {
        "colab": {
          "base_uri": "https://localhost:8080/"
        },
        "id": "L2D9hz6Gp7Bf",
        "outputId": "5763822e-76f1-4981-fbc0-1c83505d8c2e"
      },
      "execution_count": 15,
      "outputs": [
        {
          "output_type": "execute_result",
          "data": {
            "text/plain": [
              "42"
            ]
          },
          "metadata": {},
          "execution_count": 15
        }
      ]
    },
    {
      "cell_type": "code",
      "source": [
        "recommendations = model.transform(user1)"
      ],
      "metadata": {
        "id": "rtorFcpYp9WK"
      },
      "execution_count": 16,
      "outputs": []
    },
    {
      "cell_type": "code",
      "source": [
        "recommendations.orderBy('prediction',ascending=False).show()"
      ],
      "metadata": {
        "colab": {
          "base_uri": "https://localhost:8080/"
        },
        "id": "bcaQqMmRp_e-",
        "outputId": "b9fb601b-5177-491e-ac3f-e1566b7f6e3d"
      },
      "execution_count": 17,
      "outputs": [
        {
          "output_type": "stream",
          "name": "stdout",
          "text": [
            "+-------+-------+----------+\n",
            "|book_id|user_id|prediction|\n",
            "+-------+-------+----------+\n",
            "|      8|   5461| 5.0335436|\n",
            "|     47|   5461|  4.730926|\n",
            "|    483|   5461|  4.622107|\n",
            "|   1094|   5461| 4.5957804|\n",
            "|    339|   5461| 4.5417233|\n",
            "|    444|   5461| 4.5225058|\n",
            "|    478|   5461| 4.4244857|\n",
            "|   1465|   5461| 4.4110894|\n",
            "|      7|   5461| 4.3999443|\n",
            "|    129|   5461| 4.3938417|\n",
            "|     82|   5461|   4.39313|\n",
            "|    561|   5461|   4.37797|\n",
            "|   1202|   5461| 4.3322597|\n",
            "|   1088|   5461|  4.329598|\n",
            "|    844|   5461|  4.262401|\n",
            "|    130|   5461| 4.2086234|\n",
            "|    885|   5461|  4.141724|\n",
            "|   4877|   5461| 4.1130195|\n",
            "|   1493|   5461|  4.111848|\n",
            "|    304|   5461| 4.1024375|\n",
            "+-------+-------+----------+\n",
            "only showing top 20 rows\n",
            "\n"
          ]
        }
      ]
    },
    {
      "cell_type": "code",
      "source": [
        "recommendations.show()"
      ],
      "metadata": {
        "colab": {
          "base_uri": "https://localhost:8080/"
        },
        "id": "DMt8XZr3qCLb",
        "outputId": "d4349a41-e82c-4ad6-874f-64b8faa4d696"
      },
      "execution_count": 18,
      "outputs": [
        {
          "output_type": "stream",
          "name": "stdout",
          "text": [
            "+-------+-------+----------+\n",
            "|book_id|user_id|prediction|\n",
            "+-------+-------+----------+\n",
            "|      7|   5461| 4.3999443|\n",
            "|      8|   5461| 5.0335436|\n",
            "|     37|   5461| 3.8126752|\n",
            "|     47|   5461|  4.730926|\n",
            "|     82|   5461|   4.39313|\n",
            "|     86|   5461|  3.939124|\n",
            "|    117|   5461|  3.847703|\n",
            "|    118|   5461| 3.7317593|\n",
            "|    129|   5461| 4.3938417|\n",
            "|    130|   5461| 4.2086234|\n",
            "|    255|   5461|  3.551429|\n",
            "|    261|   5461| 3.1461303|\n",
            "|    281|   5461| 3.1281495|\n",
            "|    304|   5461| 4.1024375|\n",
            "|    321|   5461|  3.316253|\n",
            "|    339|   5461| 4.5417233|\n",
            "|    358|   5461| 3.5786288|\n",
            "|    396|   5461| 3.9388258|\n",
            "|    444|   5461| 4.5225058|\n",
            "|    478|   5461| 4.4244857|\n",
            "+-------+-------+----------+\n",
            "only showing top 20 rows\n",
            "\n"
          ]
        }
      ]
    },
    {
      "cell_type": "code",
      "source": [],
      "metadata": {
        "id": "aAU_I2RfqWPZ"
      },
      "execution_count": null,
      "outputs": []
    }
  ]
}